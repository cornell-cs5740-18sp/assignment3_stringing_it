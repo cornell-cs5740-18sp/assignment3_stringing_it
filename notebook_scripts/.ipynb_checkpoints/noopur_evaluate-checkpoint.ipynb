{
 "cells": [
  {
   "cell_type": "code",
   "execution_count": null,
   "metadata": {},
   "outputs": [],
   "source": [
    "import numpy as np\n",
    "import pandas as pd\n",
    "from sklearn.metrics import confusion_matrix, accuracy_score\n",
    "from argparse import ArgumentParser\n",
    "\n",
    "\n",
    "def warn(*args, **kwargs): pass\n",
    "import warnings; warnings.warn = warn\n",
    "\n",
    "\n",
    "parser = ArgumentParser()\n",
    "\n",
    "parser.add_argument(\"-p\", \"--predicted\", dest = \"pred_path\",\n",
    "    required = True, help = \"path to your model's predicted labels file\")\n",
    "\n",
    "parser.add_argument(\"-d\", \"--development\", dest = \"dev_path\",\n",
    "    required = True, help = \"path to the development labels file\")\n",
    "\n",
    "parser.add_argument(\"-c\", \"--confusion\", dest = \"show_confusion\",\n",
    "    action = \"store_true\", help = \"show confusion matrix\")\n",
    "\n",
    "args = parser.parse_args()\n",
    "\n",
    "\n",
    "pred = pd.read_csv(args.pred_path, index_col = \"id\")\n",
    "dev  = pd.read_csv(args.dev_path,  index_col = \"id\")\n",
    "\n",
    "pred.columns = [\"predicted\"]\n",
    "dev.columns  = [\"actual\"]\n",
    "\n",
    "data = dev.join(pred)\n",
    "\n",
    "print(\"Accuracy: \", accuracy_score(data.actual, data.predicted))\n",
    "\n",
    "if args.show_confusion:\n",
    "    \n",
    "    data[\"count\"] = 1\n",
    "    counts = data.groupby([\"actual\", \"predicted\"]).count().reset_index()\n",
    "    confusion = counts[counts.actual != counts.predicted].reset_index(drop = True)\n",
    "        \n",
    "    print(\"Confusion Matrix:\")\n",
    "    \n",
    "    if confusion.empty: print(\"None!\")\n",
    "    else: print(confusion)\n"
   ]
  },
  {
   "cell_type": "code",
   "execution_count": null,
   "metadata": {},
   "outputs": [],
   "source": []
  }
 ],
 "metadata": {
  "kernelspec": {
   "display_name": "Python 2",
   "language": "python",
   "name": "python2"
  },
  "language_info": {
   "codemirror_mode": {
    "name": "ipython",
    "version": 2
   },
   "file_extension": ".py",
   "mimetype": "text/x-python",
   "name": "python",
   "nbconvert_exporter": "python",
   "pygments_lexer": "ipython2",
   "version": "2.7.14"
  }
 },
 "nbformat": 4,
 "nbformat_minor": 2
}
