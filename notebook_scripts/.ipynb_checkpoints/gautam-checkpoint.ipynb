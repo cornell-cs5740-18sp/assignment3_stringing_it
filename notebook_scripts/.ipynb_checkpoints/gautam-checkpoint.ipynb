{
 "cells": [
  {
   "cell_type": "code",
   "execution_count": 71,
   "metadata": {},
   "outputs": [],
   "source": [
    "import pandas as pd\n",
    "from collections import defaultdict"
   ]
  },
  {
   "cell_type": "code",
   "execution_count": 41,
   "metadata": {},
   "outputs": [],
   "source": [
    "train_tokens = pd.read_csv('../data/train_x.csv')\n",
    "train_tags = pd.read_csv('../data/train_y.csv')"
   ]
  },
  {
   "cell_type": "code",
   "execution_count": 42,
   "metadata": {},
   "outputs": [],
   "source": [
    "train_data = train_tokens.join(train_tags, on=\"id\", how = \"inner\", rsuffix = \"_tag\").drop(\"id_tag\",axis=1)"
   ]
  },
  {
   "cell_type": "code",
   "execution_count": 88,
   "metadata": {},
   "outputs": [],
   "source": [
    "sentences = []\n",
    "tags = []\n",
    "temp_tokens = []\n",
    "temp_tags = []\n",
    "for row in train_data.iterrows():\n",
    "    word = row[1]['word']\n",
    "    tag = row[1]['tag']\n",
    "    if word!='-DOCSTART-' and word!='.':\n",
    "        temp_tokens.append(word)\n",
    "        temp_tags.append(tag)\n",
    "    if word=='.':\n",
    "        sentences.append(' '.join(temp_tokens) + ' .')\n",
    "        tags.append(' '.join(temp_tags) + ' .')\n",
    "        temp_tokens = []\n",
    "        temp_tags = []\n",
    "    "
   ]
  },
  {
   "cell_type": "code",
   "execution_count": 89,
   "metadata": {},
   "outputs": [],
   "source": [
    "def nGramTagger(n):\n",
    "    dic = defaultdict(int)\n",
    "    for line in tags:\n",
    "        line = line.split(' ')\n",
    "        line = ['*']*n + line\n",
    "        for i in range(n,len(line)):\n",
    "            dic[tuple(line[i-n:i])]+=1\n",
    "    return dic\n",
    "\n",
    "def wordTagger():\n",
    "    dic = defaultdict(int) \n",
    "    for line1,line2 in zip(sentences,tags):\n",
    "        for word,tag in zip(line1,line2):\n",
    "            dic[(word,tag)]+=1\n",
    "    return dic\n",
    "\n",
    "unigram = nGramTagger(1)\n",
    "bigram = nGramTagger(2)\n",
    "trigram = nGramTagger(3)\n",
    "\n",
    "wordtag = wordTagger()"
   ]
  },
  {
   "cell_type": "code",
   "execution_count": 84,
   "metadata": {},
   "outputs": [],
   "source": [
    "def get_q(tag_penult,tag_last,tag_current):\n",
    "    return float(trigram[(tag_penult, tag_last, tag_current)])/float(bigram[(tag_penult, tag_last)])\n",
    "\n",
    "def get_e(word,tag):\n",
    "    return float(wordtag[(word,tag)])/float(unigram[tag])"
   ]
  },
  {
   "cell_type": "code",
   "execution_count": 94,
   "metadata": {},
   "outputs": [
    {
     "data": {
      "text/plain": [
       "defaultdict(int,\n",
       "            {('',): 28510,\n",
       "             ('#',): 91,\n",
       "             ('$',): 5125,\n",
       "             (\"''\",): 5105,\n",
       "             ('(',): 1021,\n",
       "             (')',): 1030,\n",
       "             (',',): 35475,\n",
       "             ('.',): 327,\n",
       "             (':',): 3602,\n",
       "             ('CC',): 17297,\n",
       "             ('CD',): 26323,\n",
       "             ('DT',): 59928,\n",
       "             ('EX',): 645,\n",
       "             ('FW',): 204,\n",
       "             ('IN',): 72097,\n",
       "             ('JJ',): 45356,\n",
       "             ('JJR',): 2394,\n",
       "             ('JJS',): 1407,\n",
       "             ('LS',): 37,\n",
       "             ('MD',): 7204,\n",
       "             ('NN',): 96805,\n",
       "             ('NNP',): 67431,\n",
       "             ('NNPS',): 2049,\n",
       "             ('NNS',): 43879,\n",
       "             ('PDT',): 296,\n",
       "             ('POS',): 6478,\n",
       "             ('PRP',): 12837,\n",
       "             ('PRP$',): 6065,\n",
       "             ('RB',): 22445,\n",
       "             ('RBR',): 1257,\n",
       "             ('RBS',): 320,\n",
       "             ('RP',): 1912,\n",
       "             ('SYM',): 30,\n",
       "             ('TO',): 16250,\n",
       "             ('UH',): 64,\n",
       "             ('VB',): 19353,\n",
       "             ('VBD',): 21357,\n",
       "             ('VBG',): 11013,\n",
       "             ('VBN',): 14622,\n",
       "             ('VBP',): 9395,\n",
       "             ('VBZ',): 16170,\n",
       "             ('WDT',): 3217,\n",
       "             ('WP',): 1741,\n",
       "             ('WP$',): 129,\n",
       "             ('WRB',): 1566,\n",
       "             ('``',): 5229})"
      ]
     },
     "execution_count": 94,
     "metadata": {},
     "output_type": "execute_result"
    }
   ],
   "source": [
    "nGramTagger(1)[]\n"
   ]
  },
  {
   "cell_type": "code",
   "execution_count": null,
   "metadata": {},
   "outputs": [],
   "source": []
  }
 ],
 "metadata": {
  "kernelspec": {
   "display_name": "Python 2",
   "language": "python",
   "name": "python2"
  },
  "language_info": {
   "codemirror_mode": {
    "name": "ipython",
    "version": 2
   },
   "file_extension": ".py",
   "mimetype": "text/x-python",
   "name": "python",
   "nbconvert_exporter": "python",
   "pygments_lexer": "ipython2",
   "version": "2.7.14"
  }
 },
 "nbformat": 4,
 "nbformat_minor": 2
}
