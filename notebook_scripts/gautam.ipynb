{
 "cells": [
  {
   "cell_type": "code",
   "execution_count": 98,
   "metadata": {},
   "outputs": [],
   "source": [
    "import pandas as pd\n",
    "from collections import defaultdict\n",
    "import matplotlib.pyplot as plt"
   ]
  },
  {
   "cell_type": "code",
   "execution_count": 41,
   "metadata": {},
   "outputs": [],
   "source": [
    "train_tokens = pd.read_csv('../data/train_x.csv')\n",
    "train_tags = pd.read_csv('../data/train_y.csv')"
   ]
  },
  {
   "cell_type": "code",
   "execution_count": 42,
   "metadata": {},
   "outputs": [],
   "source": [
    "train_data = train_tokens.join(train_tags, on=\"id\", how = \"inner\", rsuffix = \"_tag\").drop(\"id_tag\",axis=1)"
   ]
  },
  {
   "cell_type": "code",
   "execution_count": 88,
   "metadata": {},
   "outputs": [],
   "source": [
    "sentences = []\n",
    "tags = []\n",
    "temp_tokens = []\n",
    "temp_tags = []\n",
    "for row in train_data.iterrows():\n",
    "    word = row[1]['word']\n",
    "    tag = row[1]['tag']\n",
    "    if word!='-DOCSTART-' and word!='.':\n",
    "        temp_tokens.append(word)\n",
    "        temp_tags.append(tag)\n",
    "    if word=='.':\n",
    "        sentences.append(' '.join(temp_tokens) + ' .')\n",
    "        tags.append(' '.join(temp_tags) + ' .')\n",
    "        temp_tokens = []\n",
    "        temp_tags = []\n",
    "    "
   ]
  },
  {
   "cell_type": "code",
   "execution_count": 137,
   "metadata": {},
   "outputs": [],
   "source": [
    "def nGramTagger(n):\n",
    "    dic = {}\n",
    "    for line in tags:\n",
    "        line = line.split(' ')\n",
    "        line = ['*']*n + line\n",
    "        for i in range(n,len(line)):\n",
    "            item = tuple(line[i-n:i])\n",
    "            if item in dic:\n",
    "                dic[item]+=1\n",
    "            else:\n",
    "                dic[item]=1\n",
    "    return dic\n",
    "\n",
    "def wordTagger():\n",
    "    dic = defaultdict(int) \n",
    "    for line1,line2 in zip(sentences,tags):\n",
    "        for word,tag in zip(line1.split(' '),line2.split(' ')):\n",
    "            dic[(word,tag)]+=1\n",
    "    return dic\n",
    "\n",
    "unigram = nGramTagger(1)\n",
    "bigram = nGramTagger(2)\n",
    "trigram = nGramTagger(3)\n",
    "\n",
    "wordtag = wordTagger()"
   ]
  },
  {
   "cell_type": "code",
   "execution_count": 140,
   "metadata": {},
   "outputs": [],
   "source": [
    "def get_q(tag_penult,tag_last,tag_current):\n",
    "    return float(trigram[(tag_penult, tag_last, tag_current)])/float(bigram[(tag_penult, tag_last)])\n",
    "\n",
    "def get_e(word,tag):\n",
    "    return float(wordtag[(word,tag)])/float(unigram[tuple([tag])])"
   ]
  },
  {
   "cell_type": "code",
   "execution_count": 143,
   "metadata": {},
   "outputs": [],
   "source": [
    "def prob_distibution(dic1,dic2,k):\n",
    "    prob = []\n",
    "    for key in dic1.keys():\n",
    "        num = dic1[key] + k\n",
    "        den = dic2[tuple(key[:-1])] + (k*len(dic2))\n",
    "        prob.append(float(num)/den)\n",
    "    plt.plot(sorted(prob,reverse=True))\n",
    "    plt.show()"
   ]
  },
  {
   "cell_type": "code",
   "execution_count": 149,
   "metadata": {},
   "outputs": [
    {
     "data": {
      "image/png": "[encoded data removed]",
      "text/plain": [
       "<matplotlib.figure.Figure at 0x11da33710>"
      ]
     },
     "metadata": {},
     "output_type": "display_data"
    }
   ],
   "source": [
    "prob_distibution(bigram,unigram,2)"
   ]
  },
  {
   "cell_type": "code",
   "execution_count": 138,
   "metadata": {},
   "outputs": [
    {
     "data": {
      "text/plain": [
       "1364"
      ]
     },
     "execution_count": 138,
     "metadata": {},
     "output_type": "execute_result"
    }
   ],
   "source": [
    "len(bigram)"
   ]
  }
 ],
 "metadata": {
  "kernelspec": {
   "display_name": "Python 2",
   "language": "python",
   "name": "python2"
  },
  "language_info": {
   "codemirror_mode": {
    "name": "ipython",
    "version": 2
   },
   "file_extension": ".py",
   "mimetype": "text/x-python",
   "name": "python",
   "nbconvert_exporter": "python",
   "pygments_lexer": "ipython2",
   "version": "2.7.14"
  }
 },
 "nbformat": 4,
 "nbformat_minor": 2
}
