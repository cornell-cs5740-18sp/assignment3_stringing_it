{
 "cells": [
  {
   "cell_type": "code",
   "execution_count": 186,
   "metadata": {},
   "outputs": [],
   "source": [
    "import pandas as pd\n",
    "from collections import defaultdict\n",
    "import matplotlib.pyplot as plt"
   ]
  },
  {
   "cell_type": "code",
   "execution_count": 187,
   "metadata": {},
   "outputs": [],
   "source": [
    "train_tokens = pd.read_csv('../data/train_x.csv')\n",
    "train_tags = pd.read_csv('../data/train_y.csv')"
   ]
  },
  {
   "cell_type": "code",
   "execution_count": 188,
   "metadata": {},
   "outputs": [],
   "source": [
    "train_data = train_tokens.join(train_tags, on=\"id\", how = \"inner\", rsuffix = \"_tag\").drop(\"id_tag\",axis=1)"
   ]
  },
  {
   "cell_type": "code",
   "execution_count": 213,
   "metadata": {},
   "outputs": [],
   "source": [
    "sentences = []\n",
    "tags_list = []\n",
    "temp_tokens = []\n",
    "temp_tags = []\n",
    "for row in train_data.itertuples():\n",
    "    word = row[2]\n",
    "    tag = row[3]\n",
    "    if word!='-DOCSTART-' and word!='.':\n",
    "        temp_tokens.append(word)\n",
    "        temp_tags.append(tag)\n",
    "    if word=='.':\n",
    "        sentences.append(' '.join(temp_tokens) + ' .')\n",
    "        tags_list.append(' '.join(temp_tags) + ' .')\n",
    "        temp_tokens = []\n",
    "        temp_tags = []\n",
    "    "
   ]
  },
  {
   "cell_type": "code",
   "execution_count": 195,
   "metadata": {},
   "outputs": [],
   "source": [
    "def nGramTagger(n):\n",
    "    dic = {}\n",
    "    for line in tags:\n",
    "        line = line.split(' ')\n",
    "        line = ['*']*n + line\n",
    "        for i in range(n,len(line)):\n",
    "            if n==1:\n",
    "                item = line[i]\n",
    "            else:\n",
    "                item = tuple(line[i-n:i])\n",
    "            if item in dic:\n",
    "                dic[item]+=1\n",
    "            else:\n",
    "                dic[item]=1\n",
    "    return dic\n",
    "\n",
    "def wordTagger():\n",
    "    dic = defaultdict(int) \n",
    "    for line1,line2 in zip(sentences,tags):\n",
    "        for word,tag in zip(line1.split(' '),line2.split(' ')):\n",
    "            dic[(word,tag)]+=1\n",
    "    return dic\n",
    "\n",
    "unigram = nGramTagger(1)\n",
    "bigram = nGramTagger(2)\n",
    "trigram = nGramTagger(3)\n",
    "\n",
    "wordtag = wordTagger()"
   ]
  },
  {
   "cell_type": "code",
   "execution_count": 196,
   "metadata": {},
   "outputs": [],
   "source": [
    "def get_q(tag_penult,tag_last,tag_current):\n",
    "    return float(trigram[(tag_penult, tag_last, tag_current)])/float(bigram[(tag_penult, tag_last)])\n",
    "\n",
    "def get_e(word,tag):\n",
    "    return float(wordtag[(word,tag)])/float(unigram[tuple([tag])])"
   ]
  },
  {
   "cell_type": "code",
   "execution_count": 176,
   "metadata": {},
   "outputs": [],
   "source": [
    "def prob_distibution(k):\n",
    "    prob = []\n",
    "    tag_list = zip(*unigram.keys())[0]\n",
    "    for key1 in tag_list :\n",
    "        for key2 in tag_list:\n",
    "            if (key1,key2) in bigram:\n",
    "                num = bigram[(key1,key2)] + k\n",
    "            else:\n",
    "                num=k\n",
    "            den = unigram[(key1,)] + (k*len(tag_list))\n",
    "            prob.append(float(num)/den)\n",
    "    print prob.count(0.0)\n",
    "    plt.plot(sorted(prob,reverse=True))\n",
    "    plt.show()"
   ]
  },
  {
   "cell_type": "code",
   "execution_count": 198,
   "metadata": {},
   "outputs": [],
   "source": [
    "train = zip(sentences,tags_list)"
   ]
  },
  {
   "cell_type": "code",
   "execution_count": 205,
   "metadata": {},
   "outputs": [
    {
     "data": {
      "text/plain": [
       "28510"
      ]
     },
     "execution_count": 205,
     "metadata": {},
     "output_type": "execute_result"
    }
   ],
   "source": [
    "len(zip(*train)[1])"
   ]
  },
  {
   "cell_type": "code",
   "execution_count": 183,
   "metadata": {},
   "outputs": [
    {
     "data": {
      "text/plain": [
       "'NNP NNP , CD NNS JJ , MD VB DT NN IN DT JJ NN NNP CD .'"
      ]
     },
     "execution_count": 183,
     "metadata": {},
     "output_type": "execute_result"
    }
   ],
   "source": [
    "for item in train[:2]:\n",
    "    \n",
    "    sentence = item[0]\n",
    "    tags = item[1]\n",
    "    tag_penult = '*'\n",
    "    tag_prev = '*'\n",
    "    for i in range(len(tags)):\n",
    "        get_q(tags[i],tag_prev,tag_penult)\n",
    "        get_e(sentence[i],tags[i])\n",
    "        tag_penult = tag_prev\n",
    "        tag_prev = tags[i]\n",
    "\n"
   ]
  },
  {
   "cell_type": "code",
   "execution_count": null,
   "metadata": {},
   "outputs": [],
   "source": []
  }
 ],
 "metadata": {
  "kernelspec": {
   "display_name": "Python 2",
   "language": "python",
   "name": "python2"
  },
  "language_info": {
   "codemirror_mode": {
    "name": "ipython",
    "version": 2
   },
   "file_extension": ".py",
   "mimetype": "text/x-python",
   "name": "python",
   "nbconvert_exporter": "python",
   "pygments_lexer": "ipython2",
   "version": "2.7.14"
  }
 },
 "nbformat": 4,
 "nbformat_minor": 2
}
