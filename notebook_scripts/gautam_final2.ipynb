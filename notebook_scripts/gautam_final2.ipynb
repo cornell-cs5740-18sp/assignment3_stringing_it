{
 "cells": [
  {
   "cell_type": "code",
   "execution_count": 36,
   "metadata": {
    "collapsed": true,
    "deletable": true,
    "editable": true
   },
   "outputs": [],
   "source": [
    "import pandas as pd\n",
    "from collections import defaultdict\n",
    "from collections import Counter\n",
    "import matplotlib.pyplot as plt\n",
    "import numpy as np\n",
    "import csv\n",
    "import string"
   ]
  },
  {
   "cell_type": "code",
   "execution_count": 6,
   "metadata": {
    "collapsed": true,
    "deletable": true,
    "editable": true
   },
   "outputs": [],
   "source": [
    "def make_sentences(tokens,tags):\n",
    "    \"\"\"\n",
    "    Function converts list of words into sentences with sentences of corresponding tags\n",
    "\n",
    "    INPUT : Dataframe of tokens, Dataframe of tags\n",
    "\n",
    "    OUTPUT : Zip of list of sentences, list of tags sentences\n",
    "    \"\"\"\n",
    "    data = tokens.join(tags, on=\"id\", how = \"inner\", rsuffix = \"_tag\").drop(\"id_tag\",axis=1)\n",
    "    sentences = []\n",
    "    tags_list = []\n",
    "    temp_tokens = []\n",
    "    temp_tags = []\n",
    "    for row in data.itertuples():\n",
    "        word = row[2]\n",
    "        tag = row[3]\n",
    "        if word!='-DOCSTART-' and word!='.':\n",
    "            temp_tokens.append(word)\n",
    "            temp_tags.append(tag)\n",
    "        if word=='.':\n",
    "            sentences.append(' '.join(temp_tokens) + ' .')\n",
    "            tags_list.append(' '.join(temp_tags) + ' .')\n",
    "            temp_tokens = []\n",
    "            temp_tags = []\n",
    "    \n",
    "    return zip(sentences,tags_list)\n",
    "\n",
    "def load_data(sentence_file, tag_file=None):\n",
    "    \"\"\"Loads data from two files: one containing sentences and one containing tags.\n",
    "\n",
    "    tag_file is optional, so this function can be used to load the test data.\n",
    "\n",
    "    Suggested to split the data by the document-start symbol.\n",
    "\n",
    "    \"\"\"\n",
    "    tokens = pd.read_csv(sentence_file)\n",
    "    if tag_file:\n",
    "        tags = pd.read_csv(tag_file)\n",
    "    else:\n",
    "        #dummy tags for test file\n",
    "        tags = pd.DataFrame()\n",
    "        tags['id'] = range(len(tokens))\n",
    "        tags['tag'] = ['NNP']*len(tokens)\n",
    "\n",
    "    return make_sentences(tokens,tags)"
   ]
  },
  {
   "cell_type": "code",
   "execution_count": 7,
   "metadata": {
    "collapsed": true,
    "deletable": true,
    "editable": true
   },
   "outputs": [],
   "source": [
    "train_data = load_data(\"../data/train_x.csv\", \"../data/train_y.csv\")"
   ]
  },
  {
   "cell_type": "code",
   "execution_count": 8,
   "metadata": {
    "collapsed": true,
    "deletable": true,
    "editable": true
   },
   "outputs": [],
   "source": [
    "#creating word_count dictionary\n",
    "word_count = Counter()\n",
    "for sentence in zip(*train_data)[0]:\n",
    "    for word in sentence.split(' '):\n",
    "        word_count[word]+=1"
   ]
  },
  {
   "cell_type": "code",
   "execution_count": 70,
   "metadata": {
    "collapsed": true
   },
   "outputs": [],
   "source": [
    "def categorize_word(word, idx):\n",
    "    if word.isdigit():\n",
    "        if len(word) == 2:\n",
    "            return 'twoDigitNum'\n",
    "        elif len(word) == 4:\n",
    "            return 'fourDigitNum'\n",
    "        else:\n",
    "            return 'othernum'\n",
    "    elif word.isalpha():\n",
    "        if word.islower():\n",
    "            return 'lowercase'\n",
    "        elif word.isupper():\n",
    "            return 'allCaps'\n",
    "        elif word[0].isupper() and word[1:].islower() and idx == 0:\n",
    "            return 'firstWord'\n",
    "        elif word[0].isupper() and word[1:].islower():\n",
    "            return 'initCap'\n",
    "        else:\n",
    "            return 'other'    \n",
    "    else:\n",
    "        without_punct = word.translate(None, string.punctuation)\n",
    "        if without_punct.isdigit() and ',' in word:\n",
    "            return 'containsDigitAndComma'\n",
    "        elif without_punct.isdigit() and '-' in word:\n",
    "            return 'containsDigitAndDash'\n",
    "        elif without_punct.isdigit() and '/' in word:\n",
    "            return 'containsDigitAndSlash'\n",
    "        elif without_punct.isdigit() and '.' in word:\n",
    "            return 'containsDigitAndPeriod'\n",
    "        elif len(word) == 2 and word[0].isupper() and word[1] == '.':\n",
    "            return 'capPeriod'\n",
    "        elif without_punct.isalnum():\n",
    "            return 'containsDigitAndAlpha'\n",
    "        else:\n",
    "            return 'other'\n",
    "    "
   ]
  },
  {
   "cell_type": "code",
   "execution_count": 65,
   "metadata": {
    "collapsed": false
   },
   "outputs": [
    {
     "data": {
      "text/plain": [
       "'initCap'"
      ]
     },
     "execution_count": 65,
     "metadata": {},
     "output_type": "execute_result"
    }
   ],
   "source": [
    "categorize_word('Sally', 1)"
   ]
  },
  {
   "cell_type": "code",
   "execution_count": 95,
   "metadata": {
    "collapsed": false,
    "deletable": true,
    "editable": true
   },
   "outputs": [],
   "source": [
    "def nGramTagger(n):\n",
    "    dic = {}\n",
    "    tags = zip(*train_data)[1]\n",
    "    for line in tags:\n",
    "        line = line.split(' ')\n",
    "        line = ['*']*n + line\n",
    "        for i in range(n,len(line)):\n",
    "            if n==1:\n",
    "                item = line[i]\n",
    "            else:\n",
    "                item = tuple(line[i-n:i])\n",
    "            if item in dic:\n",
    "                dic[item]+=1\n",
    "            else:\n",
    "                dic[item]=1\n",
    "    return dic\n",
    "\n",
    "def wordTagger():\n",
    "    dic = defaultdict(int) \n",
    "    for line1,line2 in train_data:\n",
    "        for word,tag in zip(line1.split(' '),line2.split(' ')):\n",
    "            dic[(word,tag)]+=1\n",
    "            if word_count[word]<5:\n",
    "                idx = line1.split(' ').index(word)\n",
    "                category = categorize_word(word, idx)\n",
    "                dic[(category,tag)]+=1\n",
    "    return dic\n",
    "\n",
    "unigram = nGramTagger(1)\n",
    "bigram = nGramTagger(2)\n",
    "trigram = nGramTagger(3)\n",
    "fourgram = nGramTagger(4)\n",
    "\n",
    "wordtag = wordTagger()"
   ]
  },
  {
   "cell_type": "code",
   "execution_count": 96,
   "metadata": {
    "collapsed": false
   },
   "outputs": [
    {
     "data": {
      "text/plain": [
       "43563"
      ]
     },
     "execution_count": 96,
     "metadata": {},
     "output_type": "execute_result"
    }
   ],
   "source": [
    "len(wordtag)"
   ]
  },
  {
   "cell_type": "code",
   "execution_count": 731,
   "metadata": {
    "collapsed": false,
    "deletable": true,
    "editable": true
   },
   "outputs": [
    {
     "name": "stdout",
     "output_type": "stream",
     "text": [
      "{}\n",
      "{1: 139, 2: 94, 3: 54, 4: 49, 5: 30}\n",
      "{1: 4354, 2: 1828, 3: 1117, 4: 734, 5: 580}\n"
     ]
    }
   ],
   "source": [
    "# def good_turing_smoothing(dic):\n",
    "#     reverse_dic = {}\n",
    "#     k=5\n",
    "#     #smoothing for rare words\n",
    "#     for key,value in dic.items():\n",
    "#         if value<=5:\n",
    "#             reverse_dic[value] = reverse_dic.get(value,0)+1\n",
    "    \n",
    "#     for key,value in dic.items():\n",
    "#         if value<5:\n",
    "#             dic[key] = (value+1)*reverse_dic[value+1]/reverse_dic[value]\n",
    "#     print reverse_dic\n",
    "#     #handling for unseen words or combinations\n",
    "#     dic['UNK'] = reverse_dic.get(1,1)\n",
    "    \n",
    "#     return dic\n",
    "    \n",
    "# unigram = good_turing_smoothing(unigram)\n",
    "# bigram = good_turing_smoothing(bigram)\n",
    "# trigram = good_turing_smoothing(trigram)"
   ]
  },
  {
   "cell_type": "code",
   "execution_count": 10,
   "metadata": {
    "collapsed": true,
    "deletable": true,
    "editable": true
   },
   "outputs": [],
   "source": [
    "tag_set = unigram.keys()"
   ]
  },
  {
   "cell_type": "code",
   "execution_count": 24,
   "metadata": {
    "collapsed": true
   },
   "outputs": [],
   "source": [
    "sum_bigram_counts = sum(bigram.values())"
   ]
  },
  {
   "cell_type": "code",
   "execution_count": 90,
   "metadata": {
    "collapsed": false,
    "deletable": true,
    "editable": true
   },
   "outputs": [],
   "source": [
    "def get_q(tag_penult,tag_prev,tag_current):\n",
    "    k=2\n",
    "    num = float(trigram.get((tag_penult, tag_prev, tag_current),0.0)) + k\n",
    "    den = float(bigram.get((tag_penult, tag_prev), 0.0)) + k*len(bigram)\n",
    "    return num/den\n",
    "\n",
    "def get_e(word,tag,idx):\n",
    "    if word not in word_count:\n",
    "        category = categorize_word(word,idx)\n",
    "        return float(wordtag[(category,tag)])/unigram[tag]\n",
    "    else:\n",
    "        return float(wordtag[(word,tag)])/unigram[tag]\n",
    "  \n",
    "        \n",
    "        "
   ]
  },
  {
   "cell_type": "code",
   "execution_count": 12,
   "metadata": {
    "collapsed": true,
    "deletable": true,
    "editable": true
   },
   "outputs": [],
   "source": [
    "def prob_distibution(k):\n",
    "    prob = []\n",
    "    tag_list = zip(*unigram.keys())[0]\n",
    "    for key1 in tag_list :\n",
    "        for key2 in tag_list:\n",
    "            if (key1,key2) in bigram:\n",
    "                num = bigram.get((key1,key2),0.0) + k\n",
    "            else:\n",
    "                num=k\n",
    "            den = unigram.get(key1,0.0) + (k*len(tag_list))\n",
    "            prob.append(float(num)/den if den!=0 else 0.0)\n",
    "    print prob.count(0.0)\n",
    "    plt.plot(sorted(prob,reverse=True))\n",
    "    plt.show()"
   ]
  },
  {
   "cell_type": "code",
   "execution_count": 13,
   "metadata": {
    "collapsed": true,
    "deletable": true,
    "editable": true
   },
   "outputs": [],
   "source": [
    "def sequence_probability(self, sequence, tags):\n",
    "        \"\"\"Computes the probability of a tagged sequence given the emission/transition\n",
    "        probabilities.\n",
    "        \"\"\"\n",
    "        tag_penult = '*'\n",
    "        tag_prev = '*'\n",
    "        prod = 1\n",
    "        for word, tag in zip(sequence,tags):\n",
    "            q = self.get_q(tag,tag_prev,tag_penult)\n",
    "            e = self.get_e(word,tag)\n",
    "            tag_penult = tag_prev\n",
    "            tag_prev = tagger\n",
    "            prod *= q*e\n",
    "\n",
    "        return prod\n"
   ]
  },
  {
   "cell_type": "code",
   "execution_count": null,
   "metadata": {
    "collapsed": false,
    "deletable": true,
    "editable": true
   },
   "outputs": [
    {
     "name": "stdout",
     "output_type": "stream",
     "text": [
      "1000\n",
      "2000\n",
      "3000\n",
      "4000\n",
      "5000\n",
      "6000\n",
      "7000\n",
      "8000\n",
      "9000\n"
     ]
    }
   ],
   "source": [
    "evaluate(dev_data,'greedy')"
   ]
  },
  {
   "cell_type": "code",
   "execution_count": 73,
   "metadata": {
    "collapsed": true,
    "deletable": true,
    "editable": true
   },
   "outputs": [],
   "source": [
    "def inference(sequence,mode):\n",
    "        \"\"\"Tags a sequence with part of speech tags.\n",
    "\n",
    "        You should implement different kinds of inference (suggested as separate\n",
    "        methods):\n",
    "\n",
    "            - greedy decoding\n",
    "            - decoding with beam search\n",
    "            - viterbi\n",
    "        \"\"\"\n",
    "        #Method 1: Greedy Decoding\n",
    "        if mode.lower()=='greedy':\n",
    "            tag_sequence = []\n",
    "            tag_penult = '*'\n",
    "            tag_prev = '*'\n",
    "            for idx,word in enumerate(sequence.split(' ')):\n",
    "                scores = []\n",
    "                for tag in tag_set:\n",
    "                    scores.append(get_q(tag_penult,tag_prev,tag)*get_e(word,tag,idx))\n",
    "                final_tag = tag_set[np.argmax(scores)]\n",
    "                tag_sequence.append(final_tag)\n",
    "                tag_penult = tag_prev\n",
    "                tag_prev = final_tag\n",
    "                \n",
    "            return tag_sequence\n",
    "        \n",
    "        #Method 2: Beam Search\n",
    "        elif mode.lower()=='beam':\n",
    "            k=2\n",
    "            sequence = sequence.split()\n",
    "            best_sequences = [['*','*']]\n",
    "            for idx,word in enumerate(sequence):\n",
    "                scores = {}\n",
    "                for item in best_sequences:\n",
    "                    item = list(item)\n",
    "                    tag_penult = item[-2]\n",
    "                    tag_prev = item[-1]\n",
    "                    for tag in tag_set:\n",
    "                        score = get_q(tag_penult,tag_prev,tag)*get_e(word,tag)\n",
    "                        item.append(tag)\n",
    "                        scores[tuple(item)] = score\n",
    "                        item.pop()\n",
    "                topk_scores = sorted(scores.items(), key=lambda x: x[1], reverse = True)\n",
    "                best_sequences = list(zip(*topk_scores)[0][:k])\n",
    "            \n",
    "            best_sequence =  best_sequences[0][2:]\n",
    "            \n",
    "\n",
    "            return best_sequence\n",
    "        \n",
    "        elif mode.lower()=='viterbi':\n",
    "            tag_sequence= []\n",
    "            path = {}\n",
    "            path['*','*'] = []\n",
    "            pi_func = defaultdict(float)\n",
    "            pi_func[(0, \"*\", '*')] = 0.0\n",
    "\n",
    "            # v = Tag current, u = Tag previous, w = Tag penult\n",
    "            sequence = sequence.split(\" \")\n",
    "            n = len(sequence)\n",
    "\n",
    "            for k in range(1,n+1):\n",
    "                temp_path = {}\n",
    "                for u in possible_tags(k-1):\n",
    "                    for v in possible_tags(k):\n",
    "                        max_tag = \"\"\n",
    "                        max_score = float(\"-Inf\")\n",
    "                        for w in possible_tags(k - 2):\n",
    "                            score = pi_func.get((k-1, w, u),float('-Inf'))*get_q(w,u,v)*get_e(sequence[k-1],v,k-1)\n",
    "                            if score > max_score:\n",
    "                                max_score = score\n",
    "                                max_tag = w\n",
    "                        pi_func[(k, u, v)] = max_score\n",
    "                        temp_path[u,v] = path[max_tag,u] + [v]\n",
    "                path = temp_path\n",
    "\n",
    "            prob,umax,vmax = max([(pi_func.get((n,u,v))*get_q(u,v,'.'),u,v) for u in possible_tags(n-1) for v in possible_tags(n)])\n",
    "\n",
    "            return path[umax,vmax]\n",
    "        \n",
    "def possible_tags(k):\n",
    "    if k in (-1, 0):\n",
    "        return set('*')\n",
    "    else:\n",
    "        return tag_set\n"
   ]
  },
  {
   "cell_type": "code",
   "execution_count": 16,
   "metadata": {
    "collapsed": true,
    "deletable": true,
    "editable": true
   },
   "outputs": [],
   "source": [
    "def evaluate(data,mode):\n",
    "    individual_score = 0\n",
    "    sentence_score = 0\n",
    "    total_word_count = 0\n",
    "    final_results = []\n",
    "    idx=0\n",
    "    for sentence, tag_sequence in data:\n",
    "        #checking number of sentences processed to gauge runtime\n",
    "        idx+=1\n",
    "        if idx%1000==0:\n",
    "            print idx\n",
    "        tag_sequence = tag_sequence.split(' ')\n",
    "        result = inference(sentence,mode)\n",
    "        final_results.extend(result)\n",
    "        if result==tag_sequence:\n",
    "            sentence_score+=1\n",
    "            individual_score+=len(result)\n",
    "            total_word_count += len(result)\n",
    "        else:\n",
    "            for predicted, actual in zip(result,tag_sequence):\n",
    "                total_word_count+=1\n",
    "                if predicted==actual:\n",
    "                    individual_score+=1\n",
    "    \n",
    "    save_results(final_results,'dev')\n",
    "    \n",
    "    return float(individual_score)/total_word_count, float(sentence_score)/len(data)\n",
    "\n",
    "        "
   ]
  },
  {
   "cell_type": "code",
   "execution_count": 17,
   "metadata": {
    "collapsed": true,
    "deletable": true,
    "editable": true
   },
   "outputs": [],
   "source": [
    "def save_results(predicted_tags, mode):\n",
    "\n",
    "    if mode.lower()=='dev':\n",
    "        data_x = pd.read_csv('../data/dev_x.csv')\n",
    "    \n",
    "    elif mode.lower()=='test':\n",
    "        data_x = pd.read_csv('../data/test_x.csv')\n",
    "    \n",
    "    predicitons=[]\n",
    "    for row in data_x.itertuples():\n",
    "        if row[2]=='-DOCSTART-':\n",
    "            predicted_tags.insert(row[1],'O')\n",
    "        \n",
    "    df = pd.DataFrame()\n",
    "    df['id'] = range(len(predicted_tags))\n",
    "    df['tags'] = predicted_tags\n",
    "    \n",
    "    if mode.lower()=='dev':\n",
    "        df.to_csv('../predictions.csv',index=False)\n",
    "    elif mode.lowe()=='test':\n",
    "        df.to_csv('../results/test_y.csv',index=False)\n"
   ]
  },
  {
   "cell_type": "code",
   "execution_count": 18,
   "metadata": {
    "collapsed": false,
    "deletable": true,
    "editable": true
   },
   "outputs": [],
   "source": [
    "dev_data = load_data(\"../data/dev_x.csv\", \"../data/dev_y.csv\")\n",
    "test_data = load_data(\"../data/test_x.csv\")"
   ]
  },
  {
   "cell_type": "code",
   "execution_count": null,
   "metadata": {
    "collapsed": true
   },
   "outputs": [],
   "source": []
  }
 ],
 "metadata": {
  "kernelspec": {
   "display_name": "Python 2",
   "language": "python",
   "name": "python2"
  },
  "language_info": {
   "codemirror_mode": {
    "name": "ipython",
    "version": 2
   },
   "file_extension": ".py",
   "mimetype": "text/x-python",
   "name": "python",
   "nbconvert_exporter": "python",
   "pygments_lexer": "ipython2",
   "version": "2.7.13"
  }
 },
 "nbformat": 4,
 "nbformat_minor": 2
}
