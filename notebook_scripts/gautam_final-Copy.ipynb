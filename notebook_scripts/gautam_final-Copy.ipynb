{
 "cells": [
  {
   "cell_type": "code",
   "execution_count": 1,
   "metadata": {
    "collapsed": true,
    "deletable": true,
    "editable": true
   },
   "outputs": [],
   "source": [
    "import pandas as pd\n",
    "from collections import defaultdict\n",
    "import matplotlib.pyplot as plt\n",
    "import numpy as np\n",
    "import csv"
   ]
  },
  {
   "cell_type": "code",
   "execution_count": 2,
   "metadata": {
    "collapsed": true,
    "deletable": true,
    "editable": true
   },
   "outputs": [],
   "source": [
    "def make_sentences(tokens,tags):\n",
    "    \"\"\"\n",
    "    Function converts list of words into sentences with sentences of corresponding tags\n",
    "\n",
    "    INPUT : Dataframe of tokens, Dataframe of tags\n",
    "\n",
    "    OUTPUT : Zip of list of sentences, list of tags sentences\n",
    "    \"\"\"\n",
    "    data = tokens.join(tags, on=\"id\", how = \"inner\", rsuffix = \"_tag\").drop(\"id_tag\",axis=1)\n",
    "    sentences = []\n",
    "    tags_list = []\n",
    "    temp_tokens = []\n",
    "    temp_tags = []\n",
    "    for row in data.itertuples():\n",
    "        word = row[2]\n",
    "        tag = row[3]\n",
    "        if word!='-DOCSTART-' and word!='.':\n",
    "            temp_tokens.append(word)\n",
    "            temp_tags.append(tag)\n",
    "        if word=='.':\n",
    "            sentences.append(' '.join(temp_tokens) + ' .')\n",
    "            tags_list.append(' '.join(temp_tags) + ' .')\n",
    "            temp_tokens = []\n",
    "            temp_tags = []\n",
    "    \n",
    "    return zip(sentences,tags_list)\n",
    "\n",
    "def load_data(sentence_file, tag_file=None):\n",
    "    \"\"\"Loads data from two files: one containing sentences and one containing tags.\n",
    "\n",
    "    tag_file is optional, so this function can be used to load the test data.\n",
    "\n",
    "    Suggested to split the data by the document-start symbol.\n",
    "\n",
    "    \"\"\"\n",
    "    tokens = pd.read_csv(sentence_file)\n",
    "    if tag_file:\n",
    "        tags = pd.read_csv(tag_file)\n",
    "    else:\n",
    "        #dummy tags for test file\n",
    "        tags = pd.DataFrame()\n",
    "        tags['id'] = range(len(tokens))\n",
    "        tags['tag'] = ['NNP']*len(tokens)\n",
    "\n",
    "    return make_sentences(tokens,tags)"
   ]
  },
  {
   "cell_type": "code",
   "execution_count": 3,
   "metadata": {
    "collapsed": true,
    "deletable": true,
    "editable": true
   },
   "outputs": [],
   "source": [
    "train_data = load_data(\"../data/train_x.csv\", \"../data/train_y.csv\")"
   ]
  },
  {
   "cell_type": "code",
   "execution_count": 4,
   "metadata": {
    "collapsed": true,
    "deletable": true,
    "editable": true
   },
   "outputs": [],
   "source": [
    "def nGramTagger(n):\n",
    "    dic = {}\n",
    "    tags = zip(*train_data)[1]\n",
    "    for line in tags:\n",
    "        line = line.split(' ')\n",
    "        line = ['*']*n + line\n",
    "        for i in range(n,len(line)):\n",
    "            if n==1:\n",
    "                item = line[i]\n",
    "            else:\n",
    "                item = tuple(line[i-n:i])\n",
    "            if item in dic:\n",
    "                dic[item]+=1\n",
    "            else:\n",
    "                dic[item]=1\n",
    "    return dic\n",
    "\n",
    "def wordTagger():\n",
    "    dic = defaultdict(int) \n",
    "    for line1,line2 in train_data:\n",
    "        for word,tag in zip(line1.split(' '),line2.split(' ')):\n",
    "            dic[(word,tag)]+=1\n",
    "    return dic\n",
    "\n",
    "unigram = nGramTagger(1)\n",
    "bigram = nGramTagger(2)\n",
    "trigram = nGramTagger(3)\n",
    "\n",
    "wordtag = wordTagger()"
   ]
  },
  {
   "cell_type": "code",
   "execution_count": 5,
   "metadata": {
    "collapsed": true,
    "deletable": true,
    "editable": true
   },
   "outputs": [],
   "source": [
    "tag_set = unigram.keys()"
   ]
  },
  {
   "cell_type": "code",
   "execution_count": 6,
   "metadata": {
    "collapsed": true,
    "deletable": true,
    "editable": true
   },
   "outputs": [],
   "source": [
    "def get_q(tag_penult,tag_last,tag_current):\n",
    "    k=1\n",
    "    if (tag_penult, tag_last) not in bigram:\n",
    "        return 0.0\n",
    "    return float(trigram.get((tag_penult, tag_last, tag_current),0.0) + k)/(bigram[(tag_penult, tag_last)] + k*len(bigram))\n",
    "\n",
    "def get_e(word,tag):\n",
    "    return float(wordtag.get((word,tag),0.0))/unigram[tag]"
   ]
  },
  {
   "cell_type": "code",
   "execution_count": 7,
   "metadata": {
    "collapsed": true,
    "deletable": true,
    "editable": true
   },
   "outputs": [],
   "source": [
    "def prob_distibution(k):\n",
    "    prob = []\n",
    "    tag_list = zip(*unigram.keys())[0]\n",
    "    for key1 in tag_list :\n",
    "        for key2 in tag_list:\n",
    "            if (key1,key2) in bigram:\n",
    "                num = bigram.get((key1,key2),0.0) + k\n",
    "            else:\n",
    "                num=k\n",
    "            den = unigram.get(key1,0.0) + (k*len(tag_list))\n",
    "            prob.append(float(num)/den if den!=0 else 0.0)\n",
    "    print prob.count(0.0)\n",
    "    plt.plot(sorted(prob,reverse=True))\n",
    "    plt.show()"
   ]
  },
  {
   "cell_type": "code",
   "execution_count": 8,
   "metadata": {
    "collapsed": false,
    "deletable": true,
    "editable": true
   },
   "outputs": [
    {
     "name": "stdout",
     "output_type": "stream",
     "text": [
      "2007\n"
     ]
    },
    {
     "data": {
      "image/png": "[encoded data removed]",
      "text/plain": [
       "<matplotlib.figure.Figure at 0x1084f1090>"
      ]
     },
     "metadata": {},
     "output_type": "display_data"
    }
   ],
   "source": [
    "prob_distibution(0)"
   ]
  },
  {
   "cell_type": "code",
   "execution_count": 9,
   "metadata": {
    "collapsed": true,
    "deletable": true,
    "editable": true
   },
   "outputs": [],
   "source": [
    "def sequence_probability(self, sequence, tags):\n",
    "        \"\"\"Computes the probability of a tagged sequence given the emission/transition\n",
    "        probabilities.\n",
    "        \"\"\"\n",
    "        tag_penult = '*'\n",
    "        tag_prev = '*'\n",
    "        prod = 1\n",
    "        for word, tag in zip(sequence,tags):\n",
    "            q = self.get_q(tag,tag_prev,tag_penult)\n",
    "            e = self.get_e(word,tag)\n",
    "            tag_penult = tag_prev\n",
    "            tag_prev = tagger\n",
    "            prod *= q*e\n",
    "\n",
    "        return prod\n"
   ]
  },
  {
   "cell_type": "code",
   "execution_count": 10,
   "metadata": {
    "collapsed": true,
    "deletable": true,
    "editable": true
   },
   "outputs": [],
   "source": [
    "def inference(sequence,mode):\n",
    "        \"\"\"Tags a sequence with part of speech tags.\n",
    "\n",
    "        You should implement different kinds of inference (suggested as separate\n",
    "        methods):\n",
    "\n",
    "            - greedy decoding\n",
    "            - decoding with beam search\n",
    "            - viterbi\n",
    "        \"\"\"\n",
    "        #Method 1: Greedy Decoding\n",
    "        if mode.lower()=='greedy':\n",
    "            tag_sequence = []\n",
    "            tag_penult = '*'\n",
    "            tag_prev = '*'\n",
    "            for word in sequence.split():\n",
    "                scores = []\n",
    "                for tag in tag_set:\n",
    "                    scores.append(get_q(tag_penult,tag_prev,tag)*get_e(word,tag))\n",
    "                final_tag = tag_set[np.argmax(scores)]\n",
    "                tag_sequence.append(final_tag)\n",
    "                tag_penult = tag_prev\n",
    "                tag_prev = final_tag\n",
    "                \n",
    "            return tag_sequence\n",
    "        \n",
    "        #Method 2: Beam Search\n",
    "        elif mode.lower()=='beam':\n",
    "            k=3\n",
    "            sequence = sequence.split()\n",
    "            best_sequences = [['*','*']]\n",
    "            for word in sequence:\n",
    "                scores = {}\n",
    "                for item in best_sequences:\n",
    "                    item = list(item)\n",
    "                    tag_penult = item[-2]\n",
    "                    tag_prev = item[-1]\n",
    "                    for tag in tag_set:\n",
    "                        score = get_q(tag_penult,tag_prev,tag)*get_e(word,tag)\n",
    "                        item.append(tag)\n",
    "                        scores[tuple(item)] = score\n",
    "                        item.pop()\n",
    "                topk_scores = sorted(scores.items(), key=lambda x: x[1], reverse = True)\n",
    "                best_sequences = list(zip(*topk_scores)[0][:k])\n",
    "            \n",
    "            best_sequence =  best_sequences[-1][2:]\n",
    "            \n",
    "\n",
    "            return best_sequence\n"
   ]
  },
  {
   "cell_type": "code",
   "execution_count": 17,
   "metadata": {
    "collapsed": false,
    "deletable": true,
    "editable": true
   },
   "outputs": [
    {
     "data": {
      "text/plain": [
       "(0.8857185262142406, 0.0)"
      ]
     },
     "execution_count": 17,
     "metadata": {},
     "output_type": "execute_result"
    }
   ],
   "source": [
    "evaluate(dev_data,'beam')"
   ]
  },
  {
   "cell_type": "code",
   "execution_count": 12,
   "metadata": {
    "collapsed": true,
    "deletable": true,
    "editable": true
   },
   "outputs": [],
   "source": [
    "def save_results(predicted_tags):\n",
    "    \n",
    "    test_x = pd.read_csv('../data/test_x.csv')\n",
    "    \n",
    "    predicitons=[]\n",
    "    for row in test_x.itertuples():\n",
    "        if row[2]=='-DOCSTART-':\n",
    "            predicted_tags.insert(row[1],'O')\n",
    "        \n",
    "    df = pd.DataFrame()\n",
    "    df['id'] = range(len(predicted_tags))\n",
    "    df['tags'] = predicted_tags\n",
    "    \n",
    "    df.to_csv('../results/test_y.csv',index=False)\n"
   ]
  },
  {
   "cell_type": "code",
   "execution_count": 13,
   "metadata": {
    "collapsed": true,
    "deletable": true,
    "editable": true
   },
   "outputs": [],
   "source": [
    "def evaluate(data,mode):\n",
    "    individual_score = 0\n",
    "    sentence_score = 0\n",
    "    total_word_count = 0\n",
    "    final_results = []\n",
    "    for sentence, tag_sequence in data:\n",
    "        tag_sequence = tag_sequence.split(' ')\n",
    "        result = inference(sentence,mode)\n",
    "        final_results.extend(result)\n",
    "        if result==tag_sequence:\n",
    "            sentence_score+=1\n",
    "            individual_score+=len(result)\n",
    "            total_word_count += len(result)\n",
    "        else:\n",
    "            for predicted, actual in zip(result,tag_sequence):\n",
    "                total_word_count+=1\n",
    "                if predicted==actual:\n",
    "                    individual_score+=1\n",
    "    \n",
    "    save_results(final_results)\n",
    "    \n",
    "    return float(individual_score)/total_word_count, float(sentence_score)/len(data)\n",
    "\n",
    "        "
   ]
  },
  {
   "cell_type": "code",
   "execution_count": 14,
   "metadata": {
    "collapsed": true,
    "deletable": true,
    "editable": true
   },
   "outputs": [],
   "source": [
    "dev_data = load_data(\"../data/dev_x.csv\", \"../data/dev_y.csv\")\n",
    "test_data = load_data(\"../data/test_x.csv\")"
   ]
  },
  {
   "cell_type": "code",
   "execution_count": 15,
   "metadata": {
    "collapsed": true,
    "deletable": true,
    "editable": true
   },
   "outputs": [],
   "source": [
    "test_x = pd.read_csv('../data/test_x.csv')"
   ]
  },
  {
   "cell_type": "code",
   "execution_count": null,
   "metadata": {
    "collapsed": true,
    "deletable": true,
    "editable": true
   },
   "outputs": [],
   "source": []
  }
 ],
 "metadata": {
  "kernelspec": {
   "display_name": "Python 2",
   "language": "python",
   "name": "python2"
  },
  "language_info": {
   "codemirror_mode": {
    "name": "ipython",
    "version": 2
   },
   "file_extension": ".py",
   "mimetype": "text/x-python",
   "name": "python",
   "nbconvert_exporter": "python",
   "pygments_lexer": "ipython2",
   "version": "2.7.13"
  }
 },
 "nbformat": 4,
 "nbformat_minor": 2
}
